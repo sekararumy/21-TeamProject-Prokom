{
 "cells": [
  {
   "cell_type": "code",
   "execution_count": 85,
   "metadata": {},
   "outputs": [
    {
     "name": "stdout",
     "output_type": "stream",
     "text": [
      "    Kode Nama Bank     Tenor   Bunga\n",
      "0      1   Mandiri   3 Tahun  0.0600\n",
      "1      2   Mandiri   5 Tahun  0.0500\n",
      "2      3   Mandiri  10 Tahun  0.0300\n",
      "3      4   Mandiri  15 Tahun  0.0200\n",
      "4      5       BCA   3 Tahun  0.0550\n",
      "5      6       BCA   5 Tahun  0.0450\n",
      "6      7       BCA  10 Tahun  0.0400\n",
      "7      8       BCA  15 Tahun  0.0250\n",
      "8      9       BNI   3 Tahun  0.0625\n",
      "9     10       BNI   5 Tahun  0.0525\n",
      "10    11       BNI  10 Tahun  0.0375\n",
      "11    12       BNI  15 Tahun  0.0200\n",
      "12    13       BRI   3 Tahun  0.0575\n",
      "13    14       BRI   5 Tahun  0.0480\n",
      "14    15       BRI  10 Tahun  0.0350\n",
      "15    16       BRI  15 Tahun  0.0275\n",
      "16    17   Permata   3 Tahun  0.0500\n",
      "17    18   Permata   5 Tahun  0.0425\n",
      "18    19   Permata  10 Tahun  0.0290\n",
      "19    20   Permata  15 Tahun  0.0225\n"
     ]
    }
   ],
   "source": [
    "import pandas as pd\n",
    "df = pd.read_excel(\"Database1.xlsx\")\n",
    "df_baru = df.dropna()\n",
    "print(df_baru)"
   ]
  },
  {
   "cell_type": "code",
   "execution_count": 86,
   "metadata": {},
   "outputs": [],
   "source": [
    "def data(jumlah_pinjaman, nomor):\n",
    "    kode = (nomor) - 1\n",
    "    data_harga = df_baru.iloc[kode, 3]\n",
    "    data_bank = df_baru.iloc[kode, 1]\n",
    "    persen_bunga = str(data_harga * 100) + \"%\" \n",
    "    bunga = data_harga * (jumlah_pinjaman)\n",
    "    jumlah_bulan = df_baru.iloc[kode, 2]\n",
    "    jumlah_bulan1 = int(jumlah_bulan[:-6])\n",
    "    jumlah_bulan2 = jumlah_bulan1*12\n",
    "    angsuran = jumlah_pinjaman/jumlah_bulan2\n",
    "    print(\"{} | {} | {} | {} | {}\". format(data_bank,jumlah_pinjaman,persen_bunga, bunga,angsuran))\n",
    "    print(\"TOTAL ANGSURAN POKOK = {}\".format(angsuran))\n",
    "    print(\"BUNGA ANGSURAN = {}\".format(bunga))\n",
    "    print(\"TOTAL PENGEMBALIAN = {}\".format(bunga + angsuran))\n",
    "\n",
    "\n",
    "\n"
   ]
  },
  {
   "cell_type": "code",
   "execution_count": 87,
   "metadata": {},
   "outputs": [
    {
     "name": "stdout",
     "output_type": "stream",
     "text": [
      "Mandiri | 1000000 | 2.0% | 20000.0 | 5555.555555555556\n",
      "TOTAL ANGSURAN POKOK = 5555.555555555556\n",
      "BUNGA ANGSURAN = 20000.0\n",
      "TOTAL PENGEMBALIAN = 25555.555555555555\n",
      "Mandiri | 2000000 | 2.0% | 40000.0 | 11111.111111111111\n",
      "TOTAL ANGSURAN POKOK = 11111.111111111111\n",
      "BUNGA ANGSURAN = 40000.0\n",
      "TOTAL PENGEMBALIAN = 51111.11111111111\n",
      "MASUKKAN YA ATAU TIDAK\n"
     ]
    }
   ],
   "source": [
    "total_1 = 0\n",
    "while True:\n",
    "    cek = input(\"Apakah anda mau mengajukan KPR YA/TIDAK ?\")\n",
    "    if cek.lower() == \"ya\":\n",
    "        nomor = int(input((\"Masukkan kode barang\")))\n",
    "        jumlah_pinjaman = int(input(\"Masukkan jumlah_pinjaman\"))\n",
    "        data(jumlah_pinjaman, nomor)\n",
    "        \n",
    "        \n",
    "    elif cek.lower() == \"tidak\":\n",
    "        break\n",
    "    else:\n",
    "        print(\"MASUKKAN YA ATAU TIDAK\")"
   ]
  }
 ],
 "metadata": {
  "interpreter": {
   "hash": "20a9e06a1eee47c4abbed4ec8225ad91d78d9800d202b71b6b0a6e47016c6abd"
  },
  "kernelspec": {
   "display_name": "Python 3.9.12 ('base')",
   "language": "python",
   "name": "python3"
  },
  "language_info": {
   "codemirror_mode": {
    "name": "ipython",
    "version": 3
   },
   "file_extension": ".py",
   "mimetype": "text/x-python",
   "name": "python",
   "nbconvert_exporter": "python",
   "pygments_lexer": "ipython3",
   "version": "3.9.12"
  },
  "orig_nbformat": 4
 },
 "nbformat": 4,
 "nbformat_minor": 2
}
